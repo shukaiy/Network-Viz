{
 "cells": [
  {
   "cell_type": "markdown",
   "metadata": {},
   "source": [
    "# Network DV"
   ]
  },
  {
   "cell_type": "markdown",
   "metadata": {},
   "source": [
    "Requirement:\n",
    "    As a reminder: your assignment is to send a link to a gist with your notebook where the star wars data is used to construct a graph with the nodes being characters, the links being the movies they appear in together, and when you click a label is updated."
   ]
  },
  {
   "cell_type": "markdown",
   "metadata": {},
   "source": [
    "Group Member: \n",
    "    Shukai Yao \n",
    "    Ni Lin"
   ]
  },
  {
   "cell_type": "code",
   "execution_count": 1,
   "metadata": {},
   "outputs": [],
   "source": [
    "import json"
   ]
  },
  {
   "cell_type": "code",
   "execution_count": 2,
   "metadata": {},
   "outputs": [],
   "source": [
    "films = json.load(open(\"shared/sp18-is590dv/data/star_wars/films.json\"))"
   ]
  },
  {
   "cell_type": "code",
   "execution_count": 3,
   "metadata": {},
   "outputs": [],
   "source": [
    "chars = [\"Boba Fett\", \"Yoda\", \"Jabba Desilijic Tiure\", \"Darth Vader\", \"Obi-Wan Kenobi\",\n",
    "         \"Beru Whitesun lars\", \"Mon Mothma\"]\n",
    "network={}"
   ]
  },
  {
   "cell_type": "code",
   "execution_count": 4,
   "metadata": {},
   "outputs": [],
   "source": [
    "char_input = json.load(open(\"shared/sp18-is590dv/data/star_wars/people.json\"))\n",
    "characters = {}\n",
    "for character in char_input:\n",
    "    characters[character['pk']] = character['fields']"
   ]
  },
  {
   "cell_type": "code",
   "execution_count": 5,
   "metadata": {
    "scrolled": true
   },
   "outputs": [
    {
     "name": "stdout",
     "output_type": "stream",
     "text": [
      "Film:  A New Hope\n",
      "Darth Vader\n",
      "Beru Whitesun lars\n",
      "Obi-Wan Kenobi\n",
      "Jabba Desilijic Tiure\n",
      "\n",
      "Film:  The Empire Strikes Back\n",
      "Darth Vader\n",
      "Obi-Wan Kenobi\n",
      "Yoda\n",
      "Boba Fett\n",
      "\n",
      "Film:  Return of the Jedi\n",
      "Darth Vader\n",
      "Obi-Wan Kenobi\n",
      "Jabba Desilijic Tiure\n",
      "Yoda\n",
      "Boba Fett\n",
      "Mon Mothma\n",
      "\n",
      "Film:  The Phantom Menace\n",
      "Obi-Wan Kenobi\n",
      "Jabba Desilijic Tiure\n",
      "Yoda\n",
      "\n",
      "Film:  Attack of the Clones\n",
      "Beru Whitesun lars\n",
      "Obi-Wan Kenobi\n",
      "Yoda\n",
      "Boba Fett\n",
      "\n",
      "Film:  Revenge of the Sith\n",
      "Darth Vader\n",
      "Beru Whitesun lars\n",
      "Obi-Wan Kenobi\n",
      "Yoda\n",
      "\n"
     ]
    }
   ],
   "source": [
    "for film in films:\n",
    "    print(\"Film: \", film[\"fields\"][\"title\"])\n",
    "    for character in film['fields']['characters']:\n",
    "        if characters[character][\"name\"] in chars:\n",
    "           print(characters[character][\"name\"])\n",
    "    print()"
   ]
  },
  {
   "cell_type": "code",
   "execution_count": 6,
   "metadata": {},
   "outputs": [],
   "source": [
    "import bqplot"
   ]
  },
  {
   "cell_type": "code",
   "execution_count": 7,
   "metadata": {},
   "outputs": [],
   "source": [
    "chars = [\"Boba Fett\", \"Yoda\", \"Jabba Desilijic Tiure\", \"Darth Vader\", \"Obi-Wan Kenobi\",\n",
    "         \"Beru Whitesun lars\", \"Mon Mothma\"]"
   ]
  },
  {
   "cell_type": "code",
   "execution_count": 8,
   "metadata": {},
   "outputs": [],
   "source": [
    "nodes = [{\"label\":\"Boba Fett\"}, {\"label\":\"Yoda\"},\n",
    "         {\"label\":\"Jabba Desilijic Tiure\"}, {\"label\":\"Darth Vader\"},\n",
    "         {\"label\":\"Obi-Wan Kenobi\"},\n",
    "         {\"label\":\"Beru Whitesun lars\"}, {\"label\":\"Mon Mothma\"}]"
   ]
  },
  {
   "cell_type": "code",
   "execution_count": 11,
   "metadata": {
    "scrolled": true
   },
   "outputs": [
    {
     "data": {
      "text/plain": [
       "[{'label': 'Boba Fett',\n",
       "  'media': ['The Empire Strikes Back',\n",
       "   'Return of the Jedi',\n",
       "   'Attack of the Clones'],\n",
       "  'shape': 'circle'},\n",
       " {'label': 'Yoda',\n",
       "  'media': ['The Empire Strikes Back',\n",
       "   'Return of the Jedi',\n",
       "   'The Phantom Menace',\n",
       "   'Attack of the Clones',\n",
       "   'Revenge of the Sith'],\n",
       "  'shape': 'circle'},\n",
       " {'label': 'Jabba Desilijic Tiure',\n",
       "  'media': ['A New Hope', 'Return of the Jedi', 'The Phantom Menace'],\n",
       "  'shape': 'circle'},\n",
       " {'label': 'Darth Vader',\n",
       "  'media': ['A New Hope',\n",
       "   'The Empire Strikes Back',\n",
       "   'Return of the Jedi',\n",
       "   'Revenge of the Sith'],\n",
       "  'shape': 'circle'},\n",
       " {'label': 'Obi-Wan Kenobi',\n",
       "  'media': ['A New Hope',\n",
       "   'The Empire Strikes Back',\n",
       "   'Return of the Jedi',\n",
       "   'The Phantom Menace',\n",
       "   'Attack of the Clones',\n",
       "   'Revenge of the Sith'],\n",
       "  'shape': 'circle'},\n",
       " {'label': 'Beru Whitesun lars',\n",
       "  'media': ['A New Hope', 'Attack of the Clones', 'Revenge of the Sith'],\n",
       "  'shape': 'circle'},\n",
       " {'label': 'Mon Mothma', 'media': ['Return of the Jedi'], 'shape': 'circle'}]"
      ]
     },
     "execution_count": 11,
     "metadata": {},
     "output_type": "execute_result"
    }
   ],
   "source": [
    "for node in nodes:\n",
    "    node[\"media\"] = []\n",
    "    node[\"shape\"] = \"circle\"\n",
    "    \n",
    "for film in films:\n",
    "    char_list = []\n",
    "    for char in film[\"fields\"][\"characters\"]:\n",
    "         char_list.append(characters[char][\"name\"])\n",
    "    for node in nodes:\n",
    "        if node[\"label\"] in char_list:\n",
    "            node[\"media\"].append(film[\"fields\"][\"title\"])\n",
    "nodes"
   ]
  },
  {
   "cell_type": "code",
   "execution_count": 18,
   "metadata": {
    "collapsed": true
   },
   "outputs": [
    {
     "data": {
      "text/plain": [
       "[{'source': 0, 'target': 1},\n",
       " {'source': 1, 'target': 0},\n",
       " {'source': 0, 'target': 2},\n",
       " {'source': 2, 'target': 0},\n",
       " {'source': 0, 'target': 3},\n",
       " {'source': 3, 'target': 0},\n",
       " {'source': 0, 'target': 4},\n",
       " {'source': 4, 'target': 0},\n",
       " {'source': 0, 'target': 5},\n",
       " {'source': 5, 'target': 0},\n",
       " {'source': 0, 'target': 6},\n",
       " {'source': 6, 'target': 0},\n",
       " {'source': 1, 'target': 2},\n",
       " {'source': 2, 'target': 1},\n",
       " {'source': 1, 'target': 3},\n",
       " {'source': 3, 'target': 1},\n",
       " {'source': 1, 'target': 4},\n",
       " {'source': 4, 'target': 1},\n",
       " {'source': 1, 'target': 5},\n",
       " {'source': 5, 'target': 1},\n",
       " {'source': 1, 'target': 6},\n",
       " {'source': 6, 'target': 1},\n",
       " {'source': 2, 'target': 3},\n",
       " {'source': 3, 'target': 2},\n",
       " {'source': 2, 'target': 4},\n",
       " {'source': 4, 'target': 2},\n",
       " {'source': 2, 'target': 5},\n",
       " {'source': 5, 'target': 2},\n",
       " {'source': 2, 'target': 6},\n",
       " {'source': 6, 'target': 2},\n",
       " {'source': 3, 'target': 4},\n",
       " {'source': 4, 'target': 3},\n",
       " {'source': 3, 'target': 5},\n",
       " {'source': 5, 'target': 3},\n",
       " {'source': 3, 'target': 6},\n",
       " {'source': 6, 'target': 3},\n",
       " {'source': 4, 'target': 5},\n",
       " {'source': 5, 'target': 4},\n",
       " {'source': 4, 'target': 6},\n",
       " {'source': 6, 'target': 4}]"
      ]
     },
     "execution_count": 18,
     "metadata": {},
     "output_type": "execute_result"
    }
   ],
   "source": [
    "link = []\n",
    "node_number = len(nodes)\n",
    "for i in range(node_number):\n",
    "    for j in range(i+1,node_number):\n",
    "        for media in nodes[i][\"media\"]:\n",
    "            if media in nodes[j][\"media\"]:\n",
    "                link.append({'source': i, 'target': j})\n",
    "                link.append({'source': j, 'target': i})\n",
    "                break\n",
    "                \n",
    "link      \n"
   ]
  },
  {
   "cell_type": "code",
   "execution_count": 20,
   "metadata": {},
   "outputs": [
    {
     "data": {
      "application/vnd.jupyter.widget-view+json": {
       "model_id": "a7f3c949a8704ce99835a10c5d268c18",
       "version_major": 2,
       "version_minor": 0
      },
      "text/plain": [
       "Figure(fig_margin={'top': 60, 'bottom': 60, 'left': 60, 'right': 60}, layout=Layout(min_width='125px'), marks=…"
      ]
     },
     "metadata": {},
     "output_type": "display_data"
    }
   ],
   "source": [
    "tooltip = bqplot.Tooltip(fields=[\"label\", \"media\"])\n",
    "graph = bqplot.Graph(node_data = nodes, link_data = link, tooltip = tooltip,link_type=\"line\",link_distance = 150,\n",
    "                     colors = [\"black\", \"red\", \"orange\", \"yellow\", \"pink\", \"blue\", \"purple\"])\n",
    "\n",
    "fig = bqplot.Figure(marks = [graph])\n",
    "display(fig)"
   ]
  }
 ],
 "metadata": {
  "kernelspec": {
   "display_name": "Python 3",
   "language": "python",
   "name": "python3"
  },
  "language_info": {
   "codemirror_mode": {
    "name": "ipython",
    "version": 3
   },
   "file_extension": ".py",
   "mimetype": "text/x-python",
   "name": "python",
   "nbconvert_exporter": "python",
   "pygments_lexer": "ipython3",
   "version": "3.6.6"
  }
 },
 "nbformat": 4,
 "nbformat_minor": 2
}
